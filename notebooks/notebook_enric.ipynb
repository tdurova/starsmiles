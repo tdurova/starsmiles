{
 "cells": [
  {
   "cell_type": "code",
   "execution_count": 2,
   "metadata": {},
   "outputs": [
    {
     "name": "stdout",
     "output_type": "stream",
     "text": [
      "Requirement already satisfied: pandas in /home/enric/.pyenv/versions/3.10.6/envs/starsmiles/lib/python3.10/site-packages (2.2.2)\n",
      "Requirement already satisfied: pytz>=2020.1 in /home/enric/.pyenv/versions/3.10.6/envs/starsmiles/lib/python3.10/site-packages (from pandas) (2024.1)\n",
      "Requirement already satisfied: tzdata>=2022.7 in /home/enric/.pyenv/versions/3.10.6/envs/starsmiles/lib/python3.10/site-packages (from pandas) (2024.1)\n",
      "Requirement already satisfied: python-dateutil>=2.8.2 in /home/enric/.pyenv/versions/3.10.6/envs/starsmiles/lib/python3.10/site-packages (from pandas) (2.9.0.post0)\n",
      "Requirement already satisfied: numpy>=1.22.4 in /home/enric/.pyenv/versions/3.10.6/envs/starsmiles/lib/python3.10/site-packages (from pandas) (1.26.4)\n",
      "Requirement already satisfied: six>=1.5 in /home/enric/.pyenv/versions/3.10.6/envs/starsmiles/lib/python3.10/site-packages (from python-dateutil>=2.8.2->pandas) (1.16.0)\n",
      "\n",
      "\u001b[1m[\u001b[0m\u001b[34;49mnotice\u001b[0m\u001b[1;39;49m]\u001b[0m\u001b[39;49m A new release of pip available: \u001b[0m\u001b[31;49m22.2.1\u001b[0m\u001b[39;49m -> \u001b[0m\u001b[32;49m24.2\u001b[0m\n",
      "\u001b[1m[\u001b[0m\u001b[34;49mnotice\u001b[0m\u001b[1;39;49m]\u001b[0m\u001b[39;49m To update, run: \u001b[0m\u001b[32;49mpip install --upgrade pip\u001b[0m\n",
      "Collecting tensorflow==2.10.1\n",
      "  Downloading tensorflow-2.10.1-cp310-cp310-manylinux_2_17_x86_64.manylinux2014_x86_64.whl (578.1 MB)\n",
      "\u001b[2K     \u001b[38;2;114;156;31m━━━━━━━━━━━━━━━━━━━━━━━━━━━━━━━━━━━━━━━\u001b[0m \u001b[32m578.1/578.1 MB\u001b[0m \u001b[31m3.0 MB/s\u001b[0m eta \u001b[36m0:00:00\u001b[0mm eta \u001b[36m0:00:01\u001b[0m[36m0:00:03\u001b[0m\n",
      "\u001b[?25hRequirement already satisfied: tensorflow-io-gcs-filesystem>=0.23.1 in /home/enric/.pyenv/versions/3.10.6/envs/starsmiles/lib/python3.10/site-packages (from tensorflow==2.10.1) (0.37.1)\n",
      "Requirement already satisfied: absl-py>=1.0.0 in /home/enric/.pyenv/versions/3.10.6/envs/starsmiles/lib/python3.10/site-packages (from tensorflow==2.10.1) (2.1.0)\n",
      "Requirement already satisfied: astunparse>=1.6.0 in /home/enric/.pyenv/versions/3.10.6/envs/starsmiles/lib/python3.10/site-packages (from tensorflow==2.10.1) (1.6.3)\n",
      "Requirement already satisfied: wrapt>=1.11.0 in /home/enric/.pyenv/versions/3.10.6/envs/starsmiles/lib/python3.10/site-packages (from tensorflow==2.10.1) (1.16.0)\n",
      "Collecting gast<=0.4.0,>=0.2.1\n",
      "  Downloading gast-0.4.0-py3-none-any.whl (9.8 kB)\n",
      "Collecting keras<2.11,>=2.10.0\n",
      "  Downloading keras-2.10.0-py2.py3-none-any.whl (1.7 MB)\n",
      "\u001b[2K     \u001b[38;2;114;156;31m━━━━━━━━━━━━━━━━━━━━━━━━━━━━━━━━━━━━━━━━\u001b[0m \u001b[32m1.7/1.7 MB\u001b[0m \u001b[31m5.8 MB/s\u001b[0m eta \u001b[36m0:00:00\u001b[0m MB/s\u001b[0m eta \u001b[36m0:00:01\u001b[0m:01\u001b[0m\n",
      "\u001b[?25hRequirement already satisfied: flatbuffers>=2.0 in /home/enric/.pyenv/versions/3.10.6/envs/starsmiles/lib/python3.10/site-packages (from tensorflow==2.10.1) (24.3.25)\n",
      "Requirement already satisfied: grpcio<2.0,>=1.24.3 in /home/enric/.pyenv/versions/3.10.6/envs/starsmiles/lib/python3.10/site-packages (from tensorflow==2.10.1) (1.66.1)\n",
      "Requirement already satisfied: six>=1.12.0 in /home/enric/.pyenv/versions/3.10.6/envs/starsmiles/lib/python3.10/site-packages (from tensorflow==2.10.1) (1.16.0)\n",
      "Requirement already satisfied: libclang>=13.0.0 in /home/enric/.pyenv/versions/3.10.6/envs/starsmiles/lib/python3.10/site-packages (from tensorflow==2.10.1) (18.1.1)\n",
      "Requirement already satisfied: typing-extensions>=3.6.6 in /home/enric/.pyenv/versions/3.10.6/envs/starsmiles/lib/python3.10/site-packages (from tensorflow==2.10.1) (4.12.2)\n",
      "Requirement already satisfied: termcolor>=1.1.0 in /home/enric/.pyenv/versions/3.10.6/envs/starsmiles/lib/python3.10/site-packages (from tensorflow==2.10.1) (2.4.0)\n",
      "Collecting protobuf<3.20,>=3.9.2\n",
      "  Downloading protobuf-3.19.6-cp310-cp310-manylinux_2_17_x86_64.manylinux2014_x86_64.whl (1.1 MB)\n",
      "\u001b[2K     \u001b[38;2;114;156;31m━━━━━━━━━━━━━━━━━━━━━━━━━━━━━━━━━━━━━━━━\u001b[0m \u001b[32m1.1/1.1 MB\u001b[0m \u001b[31m4.5 MB/s\u001b[0m eta \u001b[36m0:00:00\u001b[0mm eta \u001b[36m0:00:01\u001b[0m[36m0:00:01\u001b[0m\n",
      "\u001b[?25hRequirement already satisfied: packaging in /home/enric/.pyenv/versions/3.10.6/envs/starsmiles/lib/python3.10/site-packages (from tensorflow==2.10.1) (24.1)\n",
      "Requirement already satisfied: setuptools in /home/enric/.pyenv/versions/3.10.6/envs/starsmiles/lib/python3.10/site-packages (from tensorflow==2.10.1) (63.2.0)\n",
      "Requirement already satisfied: opt-einsum>=2.3.2 in /home/enric/.pyenv/versions/3.10.6/envs/starsmiles/lib/python3.10/site-packages (from tensorflow==2.10.1) (3.3.0)\n",
      "Collecting tensorflow-estimator<2.11,>=2.10.0\n",
      "  Downloading tensorflow_estimator-2.10.0-py2.py3-none-any.whl (438 kB)\n",
      "\u001b[2K     \u001b[38;2;114;156;31m━━━━━━━━━━━━━━━━━━━━━━━━━━━━━━━━━━━━━━━\u001b[0m \u001b[32m438.7/438.7 kB\u001b[0m \u001b[31m4.2 MB/s\u001b[0m eta \u001b[36m0:00:00\u001b[0m[36m0:00:01\u001b[0mm eta \u001b[36m0:00:01\u001b[0m\n",
      "\u001b[?25hRequirement already satisfied: h5py>=2.9.0 in /home/enric/.pyenv/versions/3.10.6/envs/starsmiles/lib/python3.10/site-packages (from tensorflow==2.10.1) (3.11.0)\n",
      "Requirement already satisfied: google-pasta>=0.1.1 in /home/enric/.pyenv/versions/3.10.6/envs/starsmiles/lib/python3.10/site-packages (from tensorflow==2.10.1) (0.2.0)\n",
      "Collecting tensorboard<2.11,>=2.10\n",
      "  Downloading tensorboard-2.10.1-py3-none-any.whl (5.9 MB)\n",
      "\u001b[2K     \u001b[38;2;114;156;31m━━━━━━━━━━━━━━━━━━━━━━━━━━━━━━━━━━━━━━━━\u001b[0m \u001b[32m5.9/5.9 MB\u001b[0m \u001b[31m4.0 MB/s\u001b[0m eta \u001b[36m0:00:00\u001b[0mm eta \u001b[36m0:00:01\u001b[0m0:01\u001b[0m:01\u001b[0m\n",
      "\u001b[?25hCollecting keras-preprocessing>=1.1.1\n",
      "  Downloading Keras_Preprocessing-1.1.2-py2.py3-none-any.whl (42 kB)\n",
      "\u001b[2K     \u001b[38;2;114;156;31m━━━━━━━━━━━━━━━━━━━━━━━━━━━━━━━━━━━━━━━━\u001b[0m \u001b[32m42.6/42.6 kB\u001b[0m \u001b[31m13.9 MB/s\u001b[0m eta \u001b[36m0:00:00\u001b[0m\n",
      "\u001b[?25hRequirement already satisfied: numpy>=1.20 in /home/enric/.pyenv/versions/3.10.6/envs/starsmiles/lib/python3.10/site-packages (from tensorflow==2.10.1) (1.26.4)\n",
      "Requirement already satisfied: wheel<1.0,>=0.23.0 in /home/enric/.pyenv/versions/3.10.6/envs/starsmiles/lib/python3.10/site-packages (from astunparse>=1.6.0->tensorflow==2.10.1) (0.44.0)\n",
      "Requirement already satisfied: requests<3,>=2.21.0 in /home/enric/.pyenv/versions/3.10.6/envs/starsmiles/lib/python3.10/site-packages (from tensorboard<2.11,>=2.10->tensorflow==2.10.1) (2.32.3)\n",
      "Requirement already satisfied: markdown>=2.6.8 in /home/enric/.pyenv/versions/3.10.6/envs/starsmiles/lib/python3.10/site-packages (from tensorboard<2.11,>=2.10->tensorflow==2.10.1) (3.7)\n",
      "Collecting tensorboard-plugin-wit>=1.6.0\n",
      "  Downloading tensorboard_plugin_wit-1.8.1-py3-none-any.whl (781 kB)\n",
      "\u001b[2K     \u001b[38;2;114;156;31m━━━━━━━━━━━━━━━━━━━━━━━━━━━━━━━━━━━━━━━\u001b[0m \u001b[32m781.3/781.3 kB\u001b[0m \u001b[31m5.0 MB/s\u001b[0m eta \u001b[36m0:00:00\u001b[0m[31m5.0 MB/s\u001b[0m eta \u001b[36m0:00:01\u001b[0m\n",
      "\u001b[?25hCollecting google-auth<3,>=1.6.3\n",
      "  Downloading google_auth-2.34.0-py2.py3-none-any.whl (200 kB)\n",
      "\u001b[2K     \u001b[38;2;114;156;31m━━━━━━━━━━━━━━━━━━━━━━━━━━━━━━━━━━━━━━━\u001b[0m \u001b[32m200.9/200.9 kB\u001b[0m \u001b[31m3.5 MB/s\u001b[0m eta \u001b[36m0:00:00\u001b[0m MB/s\u001b[0m eta \u001b[36m0:00:01\u001b[0m\n",
      "\u001b[?25hCollecting tensorboard-data-server<0.7.0,>=0.6.0\n",
      "  Downloading tensorboard_data_server-0.6.1-py3-none-manylinux2010_x86_64.whl (4.9 MB)\n",
      "\u001b[2K     \u001b[38;2;114;156;31m━━━━━━━━━━━━━━━━━━━━━━━━━━━━━━━━━━━━━━━━\u001b[0m \u001b[32m4.9/4.9 MB\u001b[0m \u001b[31m4.5 MB/s\u001b[0m eta \u001b[36m0:00:00\u001b[0mm eta \u001b[36m0:00:01\u001b[0m0:01\u001b[0m:01\u001b[0m\n",
      "\u001b[?25hCollecting google-auth-oauthlib<0.5,>=0.4.1\n",
      "  Downloading google_auth_oauthlib-0.4.6-py2.py3-none-any.whl (18 kB)\n",
      "Requirement already satisfied: werkzeug>=1.0.1 in /home/enric/.pyenv/versions/3.10.6/envs/starsmiles/lib/python3.10/site-packages (from tensorboard<2.11,>=2.10->tensorflow==2.10.1) (3.0.4)\n",
      "Collecting rsa<5,>=3.1.4\n",
      "  Downloading rsa-4.9-py3-none-any.whl (34 kB)\n",
      "Collecting pyasn1-modules>=0.2.1\n",
      "  Downloading pyasn1_modules-0.4.0-py3-none-any.whl (181 kB)\n",
      "\u001b[2K     \u001b[38;2;114;156;31m━━━━━━━━━━━━━━━━━━━━━━━━━━━━━━━━━━━━━━━\u001b[0m \u001b[32m181.2/181.2 kB\u001b[0m \u001b[31m6.5 MB/s\u001b[0m eta \u001b[36m0:00:00\u001b[0m MB/s\u001b[0m eta \u001b[36m0:00:01\u001b[0m\n",
      "\u001b[?25hCollecting cachetools<6.0,>=2.0.0\n",
      "  Using cached cachetools-5.5.0-py3-none-any.whl (9.5 kB)\n",
      "Collecting requests-oauthlib>=0.7.0\n",
      "  Downloading requests_oauthlib-2.0.0-py2.py3-none-any.whl (24 kB)\n",
      "Requirement already satisfied: certifi>=2017.4.17 in /home/enric/.pyenv/versions/3.10.6/envs/starsmiles/lib/python3.10/site-packages (from requests<3,>=2.21.0->tensorboard<2.11,>=2.10->tensorflow==2.10.1) (2024.8.30)\n",
      "Requirement already satisfied: idna<4,>=2.5 in /home/enric/.pyenv/versions/3.10.6/envs/starsmiles/lib/python3.10/site-packages (from requests<3,>=2.21.0->tensorboard<2.11,>=2.10->tensorflow==2.10.1) (3.8)\n",
      "Requirement already satisfied: urllib3<3,>=1.21.1 in /home/enric/.pyenv/versions/3.10.6/envs/starsmiles/lib/python3.10/site-packages (from requests<3,>=2.21.0->tensorboard<2.11,>=2.10->tensorflow==2.10.1) (2.2.2)\n",
      "Requirement already satisfied: charset-normalizer<4,>=2 in /home/enric/.pyenv/versions/3.10.6/envs/starsmiles/lib/python3.10/site-packages (from requests<3,>=2.21.0->tensorboard<2.11,>=2.10->tensorflow==2.10.1) (3.3.2)\n",
      "Requirement already satisfied: MarkupSafe>=2.1.1 in /home/enric/.pyenv/versions/3.10.6/envs/starsmiles/lib/python3.10/site-packages (from werkzeug>=1.0.1->tensorboard<2.11,>=2.10->tensorflow==2.10.1) (2.1.5)\n",
      "Collecting pyasn1<0.7.0,>=0.4.6\n",
      "  Downloading pyasn1-0.6.0-py2.py3-none-any.whl (85 kB)\n",
      "\u001b[2K     \u001b[38;2;114;156;31m━━━━━━━━━━━━━━━━━━━━━━━━━━━━━━━━━━━━━━━━\u001b[0m \u001b[32m85.3/85.3 kB\u001b[0m \u001b[31m11.4 MB/s\u001b[0m eta \u001b[36m0:00:00\u001b[0m\n",
      "\u001b[?25hCollecting oauthlib>=3.0.0\n",
      "  Downloading oauthlib-3.2.2-py3-none-any.whl (151 kB)\n",
      "\u001b[2K     \u001b[38;2;114;156;31m━━━━━━━━━━━━━━━━━━━━━━━━━━━━━━━━━━━━━━━\u001b[0m \u001b[32m151.7/151.7 kB\u001b[0m \u001b[31m7.7 MB/s\u001b[0m eta \u001b[36m0:00:00\u001b[0m\n",
      "\u001b[?25hInstalling collected packages: tensorboard-plugin-wit, keras, tensorflow-estimator, tensorboard-data-server, pyasn1, protobuf, oauthlib, keras-preprocessing, gast, cachetools, rsa, requests-oauthlib, pyasn1-modules, google-auth, google-auth-oauthlib, tensorboard, tensorflow\n",
      "  Attempting uninstall: keras\n",
      "    Found existing installation: keras 3.5.0\n",
      "    Uninstalling keras-3.5.0:\n",
      "      Successfully uninstalled keras-3.5.0\n",
      "  Attempting uninstall: tensorboard-data-server\n",
      "    Found existing installation: tensorboard-data-server 0.7.2\n",
      "    Uninstalling tensorboard-data-server-0.7.2:\n",
      "      Successfully uninstalled tensorboard-data-server-0.7.2\n",
      "  Attempting uninstall: protobuf\n",
      "    Found existing installation: protobuf 4.25.4\n",
      "    Uninstalling protobuf-4.25.4:\n",
      "      Successfully uninstalled protobuf-4.25.4\n",
      "  Attempting uninstall: gast\n",
      "    Found existing installation: gast 0.6.0\n",
      "    Uninstalling gast-0.6.0:\n",
      "      Successfully uninstalled gast-0.6.0\n",
      "  Attempting uninstall: tensorboard\n",
      "    Found existing installation: tensorboard 2.17.1\n",
      "    Uninstalling tensorboard-2.17.1:\n",
      "      Successfully uninstalled tensorboard-2.17.1\n",
      "  Attempting uninstall: tensorflow\n",
      "    Found existing installation: tensorflow 2.17.0\n",
      "    Uninstalling tensorflow-2.17.0:\n",
      "      Successfully uninstalled tensorflow-2.17.0\n",
      "Successfully installed cachetools-5.5.0 gast-0.4.0 google-auth-2.34.0 google-auth-oauthlib-0.4.6 keras-2.10.0 keras-preprocessing-1.1.2 oauthlib-3.2.2 protobuf-3.19.6 pyasn1-0.6.0 pyasn1-modules-0.4.0 requests-oauthlib-2.0.0 rsa-4.9 tensorboard-2.10.1 tensorboard-data-server-0.6.1 tensorboard-plugin-wit-1.8.1 tensorflow-2.10.1 tensorflow-estimator-2.10.0\n",
      "\n",
      "\u001b[1m[\u001b[0m\u001b[34;49mnotice\u001b[0m\u001b[1;39;49m]\u001b[0m\u001b[39;49m A new release of pip available: \u001b[0m\u001b[31;49m22.2.1\u001b[0m\u001b[39;49m -> \u001b[0m\u001b[32;49m24.2\u001b[0m\n",
      "\u001b[1m[\u001b[0m\u001b[34;49mnotice\u001b[0m\u001b[1;39;49m]\u001b[0m\u001b[39;49m To update, run: \u001b[0m\u001b[32;49mpip install --upgrade pip\u001b[0m\n",
      "Requirement already satisfied: numpy in /home/enric/.pyenv/versions/3.10.6/envs/starsmiles/lib/python3.10/site-packages (1.26.4)\n",
      "\n",
      "\u001b[1m[\u001b[0m\u001b[34;49mnotice\u001b[0m\u001b[1;39;49m]\u001b[0m\u001b[39;49m A new release of pip available: \u001b[0m\u001b[31;49m22.2.1\u001b[0m\u001b[39;49m -> \u001b[0m\u001b[32;49m24.2\u001b[0m\n",
      "\u001b[1m[\u001b[0m\u001b[34;49mnotice\u001b[0m\u001b[1;39;49m]\u001b[0m\u001b[39;49m To update, run: \u001b[0m\u001b[32;49mpip install --upgrade pip\u001b[0m\n",
      "Requirement already satisfied: matplotlib in /home/enric/.pyenv/versions/3.10.6/envs/starsmiles/lib/python3.10/site-packages (3.9.2)\n",
      "Requirement already satisfied: contourpy>=1.0.1 in /home/enric/.pyenv/versions/3.10.6/envs/starsmiles/lib/python3.10/site-packages (from matplotlib) (1.3.0)\n",
      "Requirement already satisfied: numpy>=1.23 in /home/enric/.pyenv/versions/3.10.6/envs/starsmiles/lib/python3.10/site-packages (from matplotlib) (1.26.4)\n",
      "Requirement already satisfied: pillow>=8 in /home/enric/.pyenv/versions/3.10.6/envs/starsmiles/lib/python3.10/site-packages (from matplotlib) (10.4.0)\n",
      "Requirement already satisfied: cycler>=0.10 in /home/enric/.pyenv/versions/3.10.6/envs/starsmiles/lib/python3.10/site-packages (from matplotlib) (0.12.1)\n",
      "Requirement already satisfied: kiwisolver>=1.3.1 in /home/enric/.pyenv/versions/3.10.6/envs/starsmiles/lib/python3.10/site-packages (from matplotlib) (1.4.5)\n",
      "Requirement already satisfied: python-dateutil>=2.7 in /home/enric/.pyenv/versions/3.10.6/envs/starsmiles/lib/python3.10/site-packages (from matplotlib) (2.9.0.post0)\n",
      "Requirement already satisfied: pyparsing>=2.3.1 in /home/enric/.pyenv/versions/3.10.6/envs/starsmiles/lib/python3.10/site-packages (from matplotlib) (3.1.4)\n",
      "Requirement already satisfied: packaging>=20.0 in /home/enric/.pyenv/versions/3.10.6/envs/starsmiles/lib/python3.10/site-packages (from matplotlib) (24.1)\n",
      "Requirement already satisfied: fonttools>=4.22.0 in /home/enric/.pyenv/versions/3.10.6/envs/starsmiles/lib/python3.10/site-packages (from matplotlib) (4.53.1)\n",
      "Requirement already satisfied: six>=1.5 in /home/enric/.pyenv/versions/3.10.6/envs/starsmiles/lib/python3.10/site-packages (from python-dateutil>=2.7->matplotlib) (1.16.0)\n",
      "\n",
      "\u001b[1m[\u001b[0m\u001b[34;49mnotice\u001b[0m\u001b[1;39;49m]\u001b[0m\u001b[39;49m A new release of pip available: \u001b[0m\u001b[31;49m22.2.1\u001b[0m\u001b[39;49m -> \u001b[0m\u001b[32;49m24.2\u001b[0m\n",
      "\u001b[1m[\u001b[0m\u001b[34;49mnotice\u001b[0m\u001b[1;39;49m]\u001b[0m\u001b[39;49m To update, run: \u001b[0m\u001b[32;49mpip install --upgrade pip\u001b[0m\n",
      "Requirement already satisfied: seaborn in /home/enric/.pyenv/versions/3.10.6/envs/starsmiles/lib/python3.10/site-packages (0.13.2)\n",
      "Requirement already satisfied: numpy!=1.24.0,>=1.20 in /home/enric/.pyenv/versions/3.10.6/envs/starsmiles/lib/python3.10/site-packages (from seaborn) (1.26.4)\n",
      "Requirement already satisfied: pandas>=1.2 in /home/enric/.pyenv/versions/3.10.6/envs/starsmiles/lib/python3.10/site-packages (from seaborn) (2.2.2)\n",
      "Requirement already satisfied: matplotlib!=3.6.1,>=3.4 in /home/enric/.pyenv/versions/3.10.6/envs/starsmiles/lib/python3.10/site-packages (from seaborn) (3.9.2)\n",
      "Requirement already satisfied: python-dateutil>=2.7 in /home/enric/.pyenv/versions/3.10.6/envs/starsmiles/lib/python3.10/site-packages (from matplotlib!=3.6.1,>=3.4->seaborn) (2.9.0.post0)\n",
      "Requirement already satisfied: fonttools>=4.22.0 in /home/enric/.pyenv/versions/3.10.6/envs/starsmiles/lib/python3.10/site-packages (from matplotlib!=3.6.1,>=3.4->seaborn) (4.53.1)\n",
      "Requirement already satisfied: kiwisolver>=1.3.1 in /home/enric/.pyenv/versions/3.10.6/envs/starsmiles/lib/python3.10/site-packages (from matplotlib!=3.6.1,>=3.4->seaborn) (1.4.5)\n",
      "Requirement already satisfied: cycler>=0.10 in /home/enric/.pyenv/versions/3.10.6/envs/starsmiles/lib/python3.10/site-packages (from matplotlib!=3.6.1,>=3.4->seaborn) (0.12.1)\n",
      "Requirement already satisfied: contourpy>=1.0.1 in /home/enric/.pyenv/versions/3.10.6/envs/starsmiles/lib/python3.10/site-packages (from matplotlib!=3.6.1,>=3.4->seaborn) (1.3.0)\n",
      "Requirement already satisfied: pyparsing>=2.3.1 in /home/enric/.pyenv/versions/3.10.6/envs/starsmiles/lib/python3.10/site-packages (from matplotlib!=3.6.1,>=3.4->seaborn) (3.1.4)\n",
      "Requirement already satisfied: packaging>=20.0 in /home/enric/.pyenv/versions/3.10.6/envs/starsmiles/lib/python3.10/site-packages (from matplotlib!=3.6.1,>=3.4->seaborn) (24.1)\n",
      "Requirement already satisfied: pillow>=8 in /home/enric/.pyenv/versions/3.10.6/envs/starsmiles/lib/python3.10/site-packages (from matplotlib!=3.6.1,>=3.4->seaborn) (10.4.0)\n",
      "Requirement already satisfied: tzdata>=2022.7 in /home/enric/.pyenv/versions/3.10.6/envs/starsmiles/lib/python3.10/site-packages (from pandas>=1.2->seaborn) (2024.1)\n",
      "Requirement already satisfied: pytz>=2020.1 in /home/enric/.pyenv/versions/3.10.6/envs/starsmiles/lib/python3.10/site-packages (from pandas>=1.2->seaborn) (2024.1)\n",
      "Requirement already satisfied: six>=1.5 in /home/enric/.pyenv/versions/3.10.6/envs/starsmiles/lib/python3.10/site-packages (from python-dateutil>=2.7->matplotlib!=3.6.1,>=3.4->seaborn) (1.16.0)\n",
      "\n",
      "\u001b[1m[\u001b[0m\u001b[34;49mnotice\u001b[0m\u001b[1;39;49m]\u001b[0m\u001b[39;49m A new release of pip available: \u001b[0m\u001b[31;49m22.2.1\u001b[0m\u001b[39;49m -> \u001b[0m\u001b[32;49m24.2\u001b[0m\n",
      "\u001b[1m[\u001b[0m\u001b[34;49mnotice\u001b[0m\u001b[1;39;49m]\u001b[0m\u001b[39;49m To update, run: \u001b[0m\u001b[32;49mpip install --upgrade pip\u001b[0m\n"
     ]
    }
   ],
   "source": [
    "!pip install pandas\n",
    "!pip install tensorflow==2.10.1\n",
    "!pip install numpy\n",
    "!pip install matplotlib\n",
    "!pip install seaborn"
   ]
  },
  {
   "cell_type": "code",
   "execution_count": 6,
   "metadata": {},
   "outputs": [],
   "source": [
    "import pandas as pd\n",
    "import numpy as np\n",
    "from tensorflow.keras.preprocessing import image_dataset_from_directory"
   ]
  },
  {
   "cell_type": "code",
   "execution_count": 4,
   "metadata": {},
   "outputs": [
    {
     "name": "stdout",
     "output_type": "stream",
     "text": [
      "Requirement already satisfied: scipy in /home/enric/.pyenv/versions/3.10.6/envs/starsmiles/lib/python3.10/site-packages (1.14.1)\n",
      "Requirement already satisfied: numpy<2.3,>=1.23.5 in /home/enric/.pyenv/versions/3.10.6/envs/starsmiles/lib/python3.10/site-packages (from scipy) (1.26.4)\n",
      "\n",
      "\u001b[1m[\u001b[0m\u001b[34;49mnotice\u001b[0m\u001b[1;39;49m]\u001b[0m\u001b[39;49m A new release of pip available: \u001b[0m\u001b[31;49m22.2.1\u001b[0m\u001b[39;49m -> \u001b[0m\u001b[32;49m24.2\u001b[0m\n",
      "\u001b[1m[\u001b[0m\u001b[34;49mnotice\u001b[0m\u001b[1;39;49m]\u001b[0m\u001b[39;49m To update, run: \u001b[0m\u001b[32;49mpip install --upgrade pip\u001b[0m\n"
     ]
    }
   ],
   "source": [
    "!pip install scipy\n",
    "\n",
    "import os"
   ]
  },
  {
   "cell_type": "code",
   "execution_count": 7,
   "metadata": {},
   "outputs": [
    {
     "name": "stdout",
     "output_type": "stream",
     "text": [
      "Found 25136 files belonging to 5 classes.\n",
      "Found 2812 files belonging to 5 classes.\n",
      "Found 1649 files belonging to 5 classes.\n"
     ]
    }
   ],
   "source": [
    "# Load the training data\n",
    "train_ds = image_dataset_from_directory(\n",
    "    '/home/enric/code/tdurova/starsmiles/raw_data/Dental_Radiography/train',\n",
    "    label_mode='categorical',\n",
    "    #class_names=['Cavity', 'Fillings', 'Impacted Tooth', 'Implant', 'Normal'],\n",
    "    color_mode='grayscale',\n",
    "    batch_size=32,\n",
    "    image_size=(64, 64)\n",
    ")\n",
    "\n",
    "# Load the validation data\n",
    "val_ds = image_dataset_from_directory(\n",
    "    '/home/enric/code/tdurova/starsmiles/raw_data/Dental_Radiography/valid',\n",
    "    label_mode='categorical',\n",
    "    #class_names=['Cavity', 'Fillings', 'Impacted Tooth', 'Implant', 'Normal'],\n",
    "    color_mode='grayscale',\n",
    "    batch_size=32,\n",
    "    image_size=(64, 64)\n",
    ")\n",
    "\n",
    "# Load the test data\n",
    "test_ds = image_dataset_from_directory(\n",
    "    '/home/enric/code/tdurova/starsmiles/raw_data/Dental_Radiography/test',\n",
    "    label_mode='categorical',\n",
    "    #class_names=['Cavity', 'Fillings', 'Impacted Tooth', 'Implant', 'Normal'],\n",
    "    color_mode='grayscale',\n",
    "    batch_size=32,\n",
    "    image_size=(64, 64)\n",
    ")\n"
   ]
  },
  {
   "cell_type": "code",
   "execution_count": 8,
   "metadata": {},
   "outputs": [
    {
     "data": {
      "text/plain": [
       "['Cavity', 'Fillings', 'Impacted Tooth', 'Implant', 'Normal']"
      ]
     },
     "execution_count": 8,
     "metadata": {},
     "output_type": "execute_result"
    }
   ],
   "source": [
    "class_names = train_ds.class_names\n",
    "class_names"
   ]
  },
  {
   "cell_type": "code",
   "execution_count": 9,
   "metadata": {},
   "outputs": [
    {
     "ename": "TypeError",
     "evalue": "only integer scalar arrays can be converted to a scalar index",
     "output_type": "error",
     "traceback": [
      "\u001b[0;31m---------------------------------------------------------------------------\u001b[0m",
      "\u001b[0;31mTypeError\u001b[0m                                 Traceback (most recent call last)",
      "Cell \u001b[0;32mIn[9], line 8\u001b[0m\n\u001b[1;32m      6\u001b[0m ax \u001b[38;5;241m=\u001b[39m plt\u001b[38;5;241m.\u001b[39msubplot(\u001b[38;5;241m3\u001b[39m, \u001b[38;5;241m3\u001b[39m, i \u001b[38;5;241m+\u001b[39m \u001b[38;5;241m1\u001b[39m)\n\u001b[1;32m      7\u001b[0m plt\u001b[38;5;241m.\u001b[39mimshow(images[i]\u001b[38;5;241m.\u001b[39mnumpy()\u001b[38;5;241m.\u001b[39mastype(\u001b[38;5;124m\"\u001b[39m\u001b[38;5;124muint8\u001b[39m\u001b[38;5;124m\"\u001b[39m), cmap\u001b[38;5;241m=\u001b[39m\u001b[38;5;124m'\u001b[39m\u001b[38;5;124mgray\u001b[39m\u001b[38;5;124m'\u001b[39m)\n\u001b[0;32m----> 8\u001b[0m plt\u001b[38;5;241m.\u001b[39mtitle(\u001b[43mclass_names\u001b[49m\u001b[43m[\u001b[49m\u001b[43mlabels\u001b[49m\u001b[43m[\u001b[49m\u001b[43mi\u001b[49m\u001b[43m]\u001b[49m\u001b[43m]\u001b[49m)\n\u001b[1;32m      9\u001b[0m plt\u001b[38;5;241m.\u001b[39maxis(\u001b[38;5;124m\"\u001b[39m\u001b[38;5;124moff\u001b[39m\u001b[38;5;124m\"\u001b[39m)\n",
      "File \u001b[0;32m~/.pyenv/versions/3.10.6/envs/starsmiles/lib/python3.10/site-packages/tensorflow/python/framework/ops.py:310\u001b[0m, in \u001b[0;36m_EagerTensorBase.__index__\u001b[0;34m(self)\u001b[0m\n\u001b[1;32m    309\u001b[0m \u001b[38;5;28;01mdef\u001b[39;00m \u001b[38;5;21m__index__\u001b[39m(\u001b[38;5;28mself\u001b[39m) \u001b[38;5;241m-\u001b[39m\u001b[38;5;241m>\u001b[39m \u001b[38;5;28mint\u001b[39m:\n\u001b[0;32m--> 310\u001b[0m   \u001b[38;5;28;01mreturn\u001b[39;00m \u001b[43mcast\u001b[49m\u001b[43m(\u001b[49m\u001b[43mnp\u001b[49m\u001b[38;5;241;43m.\u001b[39;49m\u001b[43mndarray\u001b[49m\u001b[43m,\u001b[49m\u001b[43m \u001b[49m\u001b[38;5;28;43mself\u001b[39;49m\u001b[38;5;241;43m.\u001b[39;49m\u001b[43m_numpy\u001b[49m\u001b[43m(\u001b[49m\u001b[43m)\u001b[49m\u001b[43m)\u001b[49m\u001b[38;5;241;43m.\u001b[39;49m\u001b[38;5;21;43m__index__\u001b[39;49m\u001b[43m(\u001b[49m\u001b[43m)\u001b[49m\n",
      "\u001b[0;31mTypeError\u001b[0m: only integer scalar arrays can be converted to a scalar index"
     ]
    },
    {
     "data": {
      "image/png": "[encoded data removed]",
      "text/plain": [
       "<Figure size 1000x1000 with 1 Axes>"
      ]
     },
     "metadata": {},
     "output_type": "display_data"
    }
   ],
   "source": [
    "import matplotlib.pyplot as plt\n",
    "\n",
    "plt.figure(figsize=(10, 10))\n",
    "for images, labels in train_ds.take(1):\n",
    "  for i in range(9):\n",
    "    ax = plt.subplot(3, 3, i + 1)\n",
    "    plt.imshow(images[i].numpy().astype(\"uint8\"), cmap='gray')\n",
    "    plt.title(class_names[labels[i]])\n",
    "    plt.axis(\"off\")"
   ]
  },
  {
   "cell_type": "code",
   "execution_count": 20,
   "metadata": {},
   "outputs": [
    {
     "name": "stdout",
     "output_type": "stream",
     "text": [
      "[[[[  0.      ]\n",
      "   [  0.      ]\n",
      "   [  0.      ]\n",
      "   ...\n",
      "   [  0.      ]\n",
      "   [  0.      ]\n",
      "   [  0.      ]]\n",
      "\n",
      "  [[  0.      ]\n",
      "   [  0.      ]\n",
      "   [  0.      ]\n",
      "   ...\n",
      "   [  0.      ]\n",
      "   [  0.      ]\n",
      "   [  0.      ]]\n",
      "\n",
      "  [[  0.      ]\n",
      "   [  0.      ]\n",
      "   [  0.      ]\n",
      "   ...\n",
      "   [  0.      ]\n",
      "   [  0.      ]\n",
      "   [  0.      ]]\n",
      "\n",
      "  ...\n",
      "\n",
      "  [[  0.      ]\n",
      "   [  0.      ]\n",
      "   [  0.      ]\n",
      "   ...\n",
      "   [  0.      ]\n",
      "   [  0.      ]\n",
      "   [  0.      ]]\n",
      "\n",
      "  [[  0.      ]\n",
      "   [  0.      ]\n",
      "   [  0.      ]\n",
      "   ...\n",
      "   [  0.      ]\n",
      "   [  0.      ]\n",
      "   [  0.      ]]\n",
      "\n",
      "  [[  0.      ]\n",
      "   [  0.      ]\n",
      "   [  0.      ]\n",
      "   ...\n",
      "   [  0.      ]\n",
      "   [  0.      ]\n",
      "   [  0.      ]]]\n",
      "\n",
      "\n",
      " [[[  0.      ]\n",
      "   [  0.      ]\n",
      "   [  0.      ]\n",
      "   ...\n",
      "   [  0.      ]\n",
      "   [  0.      ]\n",
      "   [  0.      ]]\n",
      "\n",
      "  [[  0.      ]\n",
      "   [  0.      ]\n",
      "   [  0.      ]\n",
      "   ...\n",
      "   [  0.      ]\n",
      "   [  0.      ]\n",
      "   [  0.      ]]\n",
      "\n",
      "  [[  0.      ]\n",
      "   [  0.      ]\n",
      "   [  0.      ]\n",
      "   ...\n",
      "   [  0.      ]\n",
      "   [  0.      ]\n",
      "   [  0.      ]]\n",
      "\n",
      "  ...\n",
      "\n",
      "  [[ 21.533134]\n",
      "   [ 21.533134]\n",
      "   [ 21.577705]\n",
      "   ...\n",
      "   [  0.      ]\n",
      "   [  0.      ]\n",
      "   [  0.      ]]\n",
      "\n",
      "  [[  0.      ]\n",
      "   [  0.      ]\n",
      "   [  0.      ]\n",
      "   ...\n",
      "   [  0.      ]\n",
      "   [  0.      ]\n",
      "   [  0.      ]]\n",
      "\n",
      "  [[  0.      ]\n",
      "   [  0.      ]\n",
      "   [  0.      ]\n",
      "   ...\n",
      "   [  0.      ]\n",
      "   [  0.      ]\n",
      "   [  0.      ]]]\n",
      "\n",
      "\n",
      " [[[  0.      ]\n",
      "   [  0.      ]\n",
      "   [  0.      ]\n",
      "   ...\n",
      "   [  0.      ]\n",
      "   [  0.      ]\n",
      "   [  0.      ]]\n",
      "\n",
      "  [[  0.      ]\n",
      "   [  0.      ]\n",
      "   [  0.      ]\n",
      "   ...\n",
      "   [  0.      ]\n",
      "   [  0.      ]\n",
      "   [  0.      ]]\n",
      "\n",
      "  [[  0.      ]\n",
      "   [  0.      ]\n",
      "   [  0.      ]\n",
      "   ...\n",
      "   [  0.      ]\n",
      "   [  0.      ]\n",
      "   [  0.      ]]\n",
      "\n",
      "  ...\n",
      "\n",
      "  [[  0.      ]\n",
      "   [  0.      ]\n",
      "   [  0.      ]\n",
      "   ...\n",
      "   [  0.      ]\n",
      "   [  0.      ]\n",
      "   [  0.      ]]\n",
      "\n",
      "  [[  0.      ]\n",
      "   [  0.      ]\n",
      "   [  0.      ]\n",
      "   ...\n",
      "   [  0.      ]\n",
      "   [  0.      ]\n",
      "   [  0.      ]]\n",
      "\n",
      "  [[  0.      ]\n",
      "   [  0.      ]\n",
      "   [  0.      ]\n",
      "   ...\n",
      "   [  0.      ]\n",
      "   [  0.      ]\n",
      "   [  0.      ]]]\n",
      "\n",
      "\n",
      " ...\n",
      "\n",
      "\n",
      " [[[  0.      ]\n",
      "   [  0.      ]\n",
      "   [  0.      ]\n",
      "   ...\n",
      "   [  0.      ]\n",
      "   [  0.      ]\n",
      "   [  0.      ]]\n",
      "\n",
      "  [[  0.      ]\n",
      "   [  0.      ]\n",
      "   [  0.      ]\n",
      "   ...\n",
      "   [  0.      ]\n",
      "   [  0.      ]\n",
      "   [  0.      ]]\n",
      "\n",
      "  [[  0.      ]\n",
      "   [  0.      ]\n",
      "   [  0.      ]\n",
      "   ...\n",
      "   [  0.      ]\n",
      "   [  0.      ]\n",
      "   [  0.      ]]\n",
      "\n",
      "  ...\n",
      "\n",
      "  [[  0.      ]\n",
      "   [  0.      ]\n",
      "   [  0.      ]\n",
      "   ...\n",
      "   [  0.      ]\n",
      "   [  0.      ]\n",
      "   [  0.      ]]\n",
      "\n",
      "  [[  0.      ]\n",
      "   [  0.      ]\n",
      "   [  0.      ]\n",
      "   ...\n",
      "   [  0.      ]\n",
      "   [  0.      ]\n",
      "   [  0.      ]]\n",
      "\n",
      "  [[  0.      ]\n",
      "   [  0.      ]\n",
      "   [  0.      ]\n",
      "   ...\n",
      "   [  0.      ]\n",
      "   [  0.      ]\n",
      "   [  0.      ]]]\n",
      "\n",
      "\n",
      " [[[  0.      ]\n",
      "   [  0.      ]\n",
      "   [  0.      ]\n",
      "   ...\n",
      "   [151.6553  ]\n",
      "   [124.      ]\n",
      "   [124.      ]]\n",
      "\n",
      "  [[  0.      ]\n",
      "   [  0.      ]\n",
      "   [  0.      ]\n",
      "   ...\n",
      "   [151.6553  ]\n",
      "   [124.      ]\n",
      "   [124.      ]]\n",
      "\n",
      "  [[  0.      ]\n",
      "   [  0.      ]\n",
      "   [  0.      ]\n",
      "   ...\n",
      "   [152.65457 ]\n",
      "   [125.26667 ]\n",
      "   [125.26667 ]]\n",
      "\n",
      "  ...\n",
      "\n",
      "  [[236.      ]\n",
      "   [236.      ]\n",
      "   [190.4     ]\n",
      "   ...\n",
      "   [  0.      ]\n",
      "   [  0.      ]\n",
      "   [  0.      ]]\n",
      "\n",
      "  [[236.      ]\n",
      "   [236.      ]\n",
      "   [190.4     ]\n",
      "   ...\n",
      "   [  0.      ]\n",
      "   [  0.      ]\n",
      "   [  0.      ]]\n",
      "\n",
      "  [[236.      ]\n",
      "   [236.      ]\n",
      "   [190.4     ]\n",
      "   ...\n",
      "   [  0.      ]\n",
      "   [  0.      ]\n",
      "   [  0.      ]]]\n",
      "\n",
      "\n",
      " [[[  0.      ]\n",
      "   [  0.      ]\n",
      "   [ 38.211113]\n",
      "   ...\n",
      "   [ 38.210754]\n",
      "   [  0.      ]\n",
      "   [  0.      ]]\n",
      "\n",
      "  [[  0.      ]\n",
      "   [  0.      ]\n",
      "   [ 38.211113]\n",
      "   ...\n",
      "   [ 38.210754]\n",
      "   [  0.      ]\n",
      "   [  0.      ]]\n",
      "\n",
      "  [[  0.      ]\n",
      "   [  0.      ]\n",
      "   [ 38.300247]\n",
      "   ...\n",
      "   [ 38.299892]\n",
      "   [  0.      ]\n",
      "   [  0.      ]]\n",
      "\n",
      "  ...\n",
      "\n",
      "  [[  0.      ]\n",
      "   [  0.      ]\n",
      "   [ 39.9     ]\n",
      "   ...\n",
      "   [  0.      ]\n",
      "   [  0.      ]\n",
      "   [  0.      ]]\n",
      "\n",
      "  [[  0.      ]\n",
      "   [  0.      ]\n",
      "   [ 39.9     ]\n",
      "   ...\n",
      "   [  0.      ]\n",
      "   [  0.      ]\n",
      "   [  0.      ]]\n",
      "\n",
      "  [[  0.      ]\n",
      "   [  0.      ]\n",
      "   [ 39.9     ]\n",
      "   ...\n",
      "   [  0.      ]\n",
      "   [  0.      ]\n",
      "   [  0.      ]]]]\n",
      "[4 3 1 4 4 4 4 4 4 4 4 4 4 1 1 2 4 4 4 4 1 1 4 4 4 0 4 4 4 1 4 4]\n"
     ]
    }
   ],
   "source": [
    "for i, element in enumerate(train_ds.as_numpy_iterator()):\n",
    "    if i<1:\n",
    "        print(element[0])\n",
    "        print(element[1])\n",
    "    else:\n",
    "        break"
   ]
  },
  {
   "cell_type": "code",
   "execution_count": 21,
   "metadata": {},
   "outputs": [
    {
     "name": "stdout",
     "output_type": "stream",
     "text": [
      "0.0 1.0\n"
     ]
    }
   ],
   "source": [
    "train_ds_norm = train_ds.map(lambda x, y: (x/255, y))\n",
    "image_batch, labels_batch = next(iter(train_ds_norm))\n",
    "first_image = image_batch[0]\n",
    "# Notice the pixel values are now in `[0,1]`.\n",
    "print(np.min(first_image), np.max(first_image))"
   ]
  },
  {
   "cell_type": "code",
   "execution_count": 22,
   "metadata": {},
   "outputs": [
    {
     "name": "stdout",
     "output_type": "stream",
     "text": [
      "0.0 1.0\n"
     ]
    }
   ],
   "source": [
    "test_ds_norm = test_ds.map(lambda x, y: (x/255, y))\n",
    "image_batch, labels_batch = next(iter(test_ds_norm))\n",
    "first_image = image_batch[0]\n",
    "# Notice the pixel values are now in `[0,1]`.\n",
    "print(np.min(first_image), np.max(first_image))"
   ]
  },
  {
   "cell_type": "code",
   "execution_count": 23,
   "metadata": {},
   "outputs": [
    {
     "name": "stdout",
     "output_type": "stream",
     "text": [
      "0.0 0.58574075\n"
     ]
    }
   ],
   "source": [
    "val_ds_norm = val_ds.map(lambda x, y: (x/255, y))\n",
    "image_batch, labels_batch = next(iter(val_ds_norm))\n",
    "first_image = image_batch[0]\n",
    "# Notice the pixel values are now in `[0,1]`.\n",
    "print(np.min(first_image), np.max(first_image))"
   ]
  },
  {
   "cell_type": "code",
   "execution_count": 12,
   "metadata": {},
   "outputs": [],
   "source": [
    "#train_ds_norm.save('/home/enric/code/tdurova/starsmiles/raw_data/Dental_Radiography/train')\n",
    "#test_ds_norm.save('/home/enric/code/tdurova/starsmiles/raw_data/Dental_Radiography/test')\n",
    "#val_ds_norm.save('/home/enric/code/tdurova/starsmiles/raw_data/Dental_Radiography/valid')"
   ]
  },
  {
   "cell_type": "code",
   "execution_count": 13,
   "metadata": {},
   "outputs": [
    {
     "data": {
      "text/plain": [
       "<_LoadDataset element_spec=(TensorSpec(shape=(None, 64, 64, 1), dtype=tf.float32, name=None), TensorSpec(shape=(None,), dtype=tf.int32, name=None))>"
      ]
     },
     "execution_count": 13,
     "metadata": {},
     "output_type": "execute_result"
    }
   ],
   "source": [
    "#import tensorflow as tf\n",
    "\n",
    "#new = tf.data.Dataset.load('/home/enric/code/tdurova/starsmiles/raw_data/Dental_Radiography/valid')\n",
    "#new"
   ]
  },
  {
   "cell_type": "code",
   "execution_count": 14,
   "metadata": {},
   "outputs": [
    {
     "name": "stdout",
     "output_type": "stream",
     "text": [
      "[[[[0.        ]\n",
      "   [0.        ]\n",
      "   [0.        ]\n",
      "   ...\n",
      "   [0.        ]\n",
      "   [0.        ]\n",
      "   [0.        ]]\n",
      "\n",
      "  [[0.        ]\n",
      "   [0.        ]\n",
      "   [0.        ]\n",
      "   ...\n",
      "   [0.        ]\n",
      "   [0.        ]\n",
      "   [0.        ]]\n",
      "\n",
      "  [[0.        ]\n",
      "   [0.        ]\n",
      "   [0.        ]\n",
      "   ...\n",
      "   [0.        ]\n",
      "   [0.        ]\n",
      "   [0.        ]]\n",
      "\n",
      "  ...\n",
      "\n",
      "  [[0.8352941 ]\n",
      "   [0.85490197]\n",
      "   [0.9098039 ]\n",
      "   ...\n",
      "   [0.4627451 ]\n",
      "   [0.4745098 ]\n",
      "   [0.4745098 ]]\n",
      "\n",
      "  [[0.32156864]\n",
      "   [0.32941177]\n",
      "   [0.34901962]\n",
      "   ...\n",
      "   [0.15294118]\n",
      "   [0.16078432]\n",
      "   [0.16078432]]\n",
      "\n",
      "  [[0.        ]\n",
      "   [0.        ]\n",
      "   [0.        ]\n",
      "   ...\n",
      "   [0.        ]\n",
      "   [0.        ]\n",
      "   [0.        ]]]\n",
      "\n",
      "\n",
      " [[[0.        ]\n",
      "   [0.        ]\n",
      "   [0.        ]\n",
      "   ...\n",
      "   [0.        ]\n",
      "   [0.        ]\n",
      "   [0.        ]]\n",
      "\n",
      "  [[0.        ]\n",
      "   [0.0627451 ]\n",
      "   [0.01568628]\n",
      "   ...\n",
      "   [0.        ]\n",
      "   [0.        ]\n",
      "   [0.        ]]\n",
      "\n",
      "  [[0.05098039]\n",
      "   [0.33333334]\n",
      "   [0.21176471]\n",
      "   ...\n",
      "   [0.        ]\n",
      "   [0.        ]\n",
      "   [0.        ]]\n",
      "\n",
      "  ...\n",
      "\n",
      "  [[0.        ]\n",
      "   [0.        ]\n",
      "   [0.        ]\n",
      "   ...\n",
      "   [0.        ]\n",
      "   [0.        ]\n",
      "   [0.        ]]\n",
      "\n",
      "  [[0.        ]\n",
      "   [0.        ]\n",
      "   [0.        ]\n",
      "   ...\n",
      "   [0.        ]\n",
      "   [0.        ]\n",
      "   [0.        ]]\n",
      "\n",
      "  [[0.        ]\n",
      "   [0.        ]\n",
      "   [0.        ]\n",
      "   ...\n",
      "   [0.        ]\n",
      "   [0.        ]\n",
      "   [0.        ]]]\n",
      "\n",
      "\n",
      " [[[0.        ]\n",
      "   [0.        ]\n",
      "   [0.        ]\n",
      "   ...\n",
      "   [0.        ]\n",
      "   [0.        ]\n",
      "   [0.        ]]\n",
      "\n",
      "  [[0.        ]\n",
      "   [0.00784314]\n",
      "   [0.08627451]\n",
      "   ...\n",
      "   [0.        ]\n",
      "   [0.        ]\n",
      "   [0.        ]]\n",
      "\n",
      "  [[0.        ]\n",
      "   [0.02352941]\n",
      "   [0.24705882]\n",
      "   ...\n",
      "   [0.        ]\n",
      "   [0.        ]\n",
      "   [0.        ]]\n",
      "\n",
      "  ...\n",
      "\n",
      "  [[0.        ]\n",
      "   [0.        ]\n",
      "   [0.        ]\n",
      "   ...\n",
      "   [0.        ]\n",
      "   [0.        ]\n",
      "   [0.        ]]\n",
      "\n",
      "  [[0.        ]\n",
      "   [0.        ]\n",
      "   [0.        ]\n",
      "   ...\n",
      "   [0.        ]\n",
      "   [0.        ]\n",
      "   [0.        ]]\n",
      "\n",
      "  [[0.        ]\n",
      "   [0.        ]\n",
      "   [0.        ]\n",
      "   ...\n",
      "   [0.        ]\n",
      "   [0.        ]\n",
      "   [0.        ]]]\n",
      "\n",
      "\n",
      " ...\n",
      "\n",
      "\n",
      " [[[0.        ]\n",
      "   [0.        ]\n",
      "   [0.        ]\n",
      "   ...\n",
      "   [0.        ]\n",
      "   [0.        ]\n",
      "   [0.        ]]\n",
      "\n",
      "  [[0.        ]\n",
      "   [0.        ]\n",
      "   [0.        ]\n",
      "   ...\n",
      "   [0.        ]\n",
      "   [0.        ]\n",
      "   [0.        ]]\n",
      "\n",
      "  [[0.        ]\n",
      "   [0.        ]\n",
      "   [0.        ]\n",
      "   ...\n",
      "   [0.        ]\n",
      "   [0.        ]\n",
      "   [0.        ]]\n",
      "\n",
      "  ...\n",
      "\n",
      "  [[0.        ]\n",
      "   [0.        ]\n",
      "   [0.        ]\n",
      "   ...\n",
      "   [0.        ]\n",
      "   [0.        ]\n",
      "   [0.        ]]\n",
      "\n",
      "  [[0.        ]\n",
      "   [0.        ]\n",
      "   [0.        ]\n",
      "   ...\n",
      "   [0.        ]\n",
      "   [0.        ]\n",
      "   [0.        ]]\n",
      "\n",
      "  [[0.        ]\n",
      "   [0.        ]\n",
      "   [0.        ]\n",
      "   ...\n",
      "   [0.        ]\n",
      "   [0.        ]\n",
      "   [0.        ]]]\n",
      "\n",
      "\n",
      " [[[0.        ]\n",
      "   [0.        ]\n",
      "   [0.        ]\n",
      "   ...\n",
      "   [0.        ]\n",
      "   [0.        ]\n",
      "   [0.        ]]\n",
      "\n",
      "  [[0.        ]\n",
      "   [0.        ]\n",
      "   [0.        ]\n",
      "   ...\n",
      "   [0.        ]\n",
      "   [0.        ]\n",
      "   [0.        ]]\n",
      "\n",
      "  [[0.        ]\n",
      "   [0.        ]\n",
      "   [0.        ]\n",
      "   ...\n",
      "   [0.        ]\n",
      "   [0.        ]\n",
      "   [0.        ]]\n",
      "\n",
      "  ...\n",
      "\n",
      "  [[0.        ]\n",
      "   [0.        ]\n",
      "   [0.        ]\n",
      "   ...\n",
      "   [0.        ]\n",
      "   [0.        ]\n",
      "   [0.        ]]\n",
      "\n",
      "  [[0.        ]\n",
      "   [0.        ]\n",
      "   [0.        ]\n",
      "   ...\n",
      "   [0.        ]\n",
      "   [0.        ]\n",
      "   [0.        ]]\n",
      "\n",
      "  [[0.        ]\n",
      "   [0.        ]\n",
      "   [0.        ]\n",
      "   ...\n",
      "   [0.        ]\n",
      "   [0.        ]\n",
      "   [0.        ]]]\n",
      "\n",
      "\n",
      " [[[0.        ]\n",
      "   [0.        ]\n",
      "   [0.        ]\n",
      "   ...\n",
      "   [0.        ]\n",
      "   [0.        ]\n",
      "   [0.        ]]\n",
      "\n",
      "  [[0.        ]\n",
      "   [0.        ]\n",
      "   [0.        ]\n",
      "   ...\n",
      "   [0.        ]\n",
      "   [0.        ]\n",
      "   [0.        ]]\n",
      "\n",
      "  [[0.        ]\n",
      "   [0.        ]\n",
      "   [0.        ]\n",
      "   ...\n",
      "   [0.        ]\n",
      "   [0.        ]\n",
      "   [0.        ]]\n",
      "\n",
      "  ...\n",
      "\n",
      "  [[0.        ]\n",
      "   [0.        ]\n",
      "   [0.        ]\n",
      "   ...\n",
      "   [0.        ]\n",
      "   [0.        ]\n",
      "   [0.        ]]\n",
      "\n",
      "  [[0.        ]\n",
      "   [0.        ]\n",
      "   [0.        ]\n",
      "   ...\n",
      "   [0.        ]\n",
      "   [0.        ]\n",
      "   [0.        ]]\n",
      "\n",
      "  [[0.        ]\n",
      "   [0.        ]\n",
      "   [0.        ]\n",
      "   ...\n",
      "   [0.        ]\n",
      "   [0.        ]\n",
      "   [0.        ]]]]\n",
      "[1 4 4 4 4 0 4 1 4 4 4 4 4 4 4 4 2 4 4 4 1 4 4 4 4 4 4 4 4 1 4 4]\n"
     ]
    }
   ],
   "source": [
    "#for i, element in enumerate(new.as_numpy_iterator()):\n",
    "#    if i<1:\n",
    "#        print(element[0])\n",
    "#        print(element[1])\n",
    "#    else:\n",
    "#        break"
   ]
  },
  {
   "cell_type": "markdown",
   "metadata": {},
   "source": [
    "## evaluate model"
   ]
  },
  {
   "cell_type": "code",
   "execution_count": 2,
   "metadata": {},
   "outputs": [
    {
     "name": "stderr",
     "output_type": "stream",
     "text": [
      "2024-09-05 08:23:17.756847: I external/local_xla/xla/tsl/cuda/cudart_stub.cc:32] Could not find cuda drivers on your machine, GPU will not be used.\n",
      "2024-09-05 08:23:17.846014: I external/local_xla/xla/tsl/cuda/cudart_stub.cc:32] Could not find cuda drivers on your machine, GPU will not be used.\n",
      "2024-09-05 08:23:17.916851: E external/local_xla/xla/stream_executor/cuda/cuda_fft.cc:485] Unable to register cuFFT factory: Attempting to register factory for plugin cuFFT when one has already been registered\n",
      "2024-09-05 08:23:17.983487: E external/local_xla/xla/stream_executor/cuda/cuda_dnn.cc:8454] Unable to register cuDNN factory: Attempting to register factory for plugin cuDNN when one has already been registered\n",
      "2024-09-05 08:23:18.018698: E external/local_xla/xla/stream_executor/cuda/cuda_blas.cc:1452] Unable to register cuBLAS factory: Attempting to register factory for plugin cuBLAS when one has already been registered\n",
      "2024-09-05 08:23:18.133784: I tensorflow/core/platform/cpu_feature_guard.cc:210] This TensorFlow binary is optimized to use available CPU instructions in performance-critical operations.\n",
      "To enable the following instructions: AVX2 FMA, in other operations, rebuild TensorFlow with the appropriate compiler flags.\n",
      "2024-09-05 08:23:19.717089: W tensorflow/compiler/tf2tensorrt/utils/py_utils.cc:38] TF-TRT Warning: Could not find TensorRT\n",
      "2024-09-05 08:23:24.930901: E external/local_xla/xla/stream_executor/cuda/cuda_driver.cc:266] failed call to cuInit: CUDA_ERROR_NO_DEVICE: no CUDA-capable device is detected\n"
     ]
    }
   ],
   "source": [
    "from tensorflow.keras.models import load_model\n",
    "\n",
    "model = load_model('/home/enric/code/tdurova/starsmiles/model/model.keras',)"
   ]
  },
  {
   "cell_type": "code",
   "execution_count": 3,
   "metadata": {},
   "outputs": [],
   "source": [
    "from tensorflow.keras.models import Model\n",
    "from tensorflow.keras import optimizers\n",
    "\n",
    "adam = optimizers.Adam(learning_rate = 0.001)\n",
    "model.compile(loss='categorical_crossentropy',\n",
    "              optimizer= adam,\n",
    "              metrics=['accuracy'])\n"
   ]
  },
  {
   "cell_type": "code",
   "execution_count": 10,
   "metadata": {},
   "outputs": [
    {
     "data": {
      "text/plain": [
       "<_PrefetchDataset element_spec=(TensorSpec(shape=(None, 64, 64, 1), dtype=tf.float32, name=None), TensorSpec(shape=(None, 5), dtype=tf.float32, name=None))>"
      ]
     },
     "execution_count": 10,
     "metadata": {},
     "output_type": "execute_result"
    }
   ],
   "source": [
    "test_ds"
   ]
  },
  {
   "cell_type": "code",
   "execution_count": 11,
   "metadata": {},
   "outputs": [
    {
     "name": "stdout",
     "output_type": "stream",
     "text": [
      "\u001b[1m52/52\u001b[0m \u001b[32m━━━━━━━━━━━━━━━━━━━━\u001b[0m\u001b[37m\u001b[0m \u001b[1m2s\u001b[0m 25ms/step - accuracy: 0.8979 - loss: 0.3196\n",
      "0.29974856972694397 0.9035779237747192\n"
     ]
    }
   ],
   "source": [
    "metrics = model.evaluate(\n",
    "        test_ds,\n",
    "        return_dict=True\n",
    "    )\n",
    "\n",
    "loss = metrics[\"loss\"]\n",
    "accuracy = metrics[\"accuracy\"]\n",
    "\n",
    "print(loss, accuracy)"
   ]
  },
  {
   "cell_type": "markdown",
   "metadata": {},
   "source": [
    "## Process and prediction"
   ]
  },
  {
   "cell_type": "code",
   "execution_count": 59,
   "metadata": {},
   "outputs": [
    {
     "name": "stdout",
     "output_type": "stream",
     "text": [
      "Requirement already satisfied: Pillow in /home/enric/.pyenv/versions/3.10.6/envs/starsmiles/lib/python3.10/site-packages (10.4.0)\n",
      "\n",
      "\u001b[1m[\u001b[0m\u001b[34;49mnotice\u001b[0m\u001b[1;39;49m]\u001b[0m\u001b[39;49m A new release of pip available: \u001b[0m\u001b[31;49m22.2.1\u001b[0m\u001b[39;49m -> \u001b[0m\u001b[32;49m24.2\u001b[0m\n",
      "\u001b[1m[\u001b[0m\u001b[34;49mnotice\u001b[0m\u001b[1;39;49m]\u001b[0m\u001b[39;49m To update, run: \u001b[0m\u001b[32;49mpip install --upgrade pip\u001b[0m\n"
     ]
    }
   ],
   "source": [
    "!pip install Pillow"
   ]
  },
  {
   "cell_type": "code",
   "execution_count": 124,
   "metadata": {},
   "outputs": [
    {
     "data": {
      "text/plain": [
       "3"
      ]
     },
     "execution_count": 124,
     "metadata": {},
     "output_type": "execute_result"
    }
   ],
   "source": [
    "from tensorflow.keras.utils import img_to_array\n",
    "from PIL import Image\n",
    "\n",
    "image = Image.open('/home/enric/code/tdurova/starsmiles/raw_data/Dental_Radiography/test/Cavity/0905_jpg.rf.93c5b0e9d232f394f6cedf1c8f3879f4_segment_200.png')\n",
    "img = img_to_array(image)\n",
    "img.shape[2]"
   ]
  },
  {
   "cell_type": "code",
   "execution_count": 125,
   "metadata": {},
   "outputs": [
    {
     "data": {
      "text/plain": [
       "(64, 64)"
      ]
     },
     "execution_count": 125,
     "metadata": {},
     "output_type": "execute_result"
    }
   ],
   "source": [
    "img.shape[:2]"
   ]
  },
  {
   "cell_type": "code",
   "execution_count": 126,
   "metadata": {},
   "outputs": [
    {
     "name": "stderr",
     "output_type": "stream",
     "text": [
      "Clipping input data to the valid range for imshow with RGB data ([0..1] for floats or [0..255] for integers). Got range [0.0..181.0].\n"
     ]
    },
    {
     "data": {
      "text/plain": [
       "<matplotlib.image.AxesImage at 0x75894c002fb0>"
      ]
     },
     "execution_count": 126,
     "metadata": {},
     "output_type": "execute_result"
    },
    {
     "data": {
      "image/png": "[encoded data removed]",
      "text/plain": [
       "<Figure size 640x480 with 1 Axes>"
      ]
     },
     "metadata": {},
     "output_type": "display_data"
    }
   ],
   "source": [
    "from tensorflow.keras.preprocessing.image import smart_resize\n",
    "\n",
    "resized_im = smart_resize(img, (64,64))\n",
    "plt.imshow(resized_im)"
   ]
  },
  {
   "cell_type": "code",
   "execution_count": 127,
   "metadata": {},
   "outputs": [
    {
     "data": {
      "text/plain": [
       "numpy.ndarray"
      ]
     },
     "execution_count": 127,
     "metadata": {},
     "output_type": "execute_result"
    }
   ],
   "source": [
    "type(resized_im)"
   ]
  },
  {
   "cell_type": "code",
   "execution_count": 128,
   "metadata": {},
   "outputs": [
    {
     "data": {
      "text/plain": [
       "<matplotlib.image.AxesImage at 0x75894e186f80>"
      ]
     },
     "execution_count": 128,
     "metadata": {},
     "output_type": "execute_result"
    },
    {
     "data": {
      "image/png": "[encoded data removed]",
      "text/plain": [
       "<Figure size 640x480 with 1 Axes>"
      ]
     },
     "metadata": {},
     "output_type": "display_data"
    }
   ],
   "source": [
    "from tensorflow.image import rgb_to_grayscale\n",
    "\n",
    "grey_res_im = rgb_to_grayscale(resized_im)\n",
    "plt.imshow(grey_res_im, cmap='gray')"
   ]
  },
  {
   "cell_type": "code",
   "execution_count": 129,
   "metadata": {},
   "outputs": [
    {
     "name": "stdout",
     "output_type": "stream",
     "text": [
      "(64, 64, 1) <class 'tensorflow.python.framework.ops.EagerTensor'>\n"
     ]
    }
   ],
   "source": [
    "print(grey_res_im.shape, type(grey_res_im))"
   ]
  },
  {
   "cell_type": "code",
   "execution_count": 130,
   "metadata": {},
   "outputs": [
    {
     "name": "stdout",
     "output_type": "stream",
     "text": [
      "\u001b[1m1/1\u001b[0m \u001b[32m━━━━━━━━━━━━━━━━━━━━\u001b[0m\u001b[37m\u001b[0m \u001b[1m0s\u001b[0m 21ms/step\n"
     ]
    },
    {
     "data": {
      "text/plain": [
       "array([[1.3714948e-01, 5.8396958e-02, 2.3984925e-04, 1.6473282e-04,\n",
       "        8.0404902e-01]], dtype=float32)"
      ]
     },
     "execution_count": 130,
     "metadata": {},
     "output_type": "execute_result"
    }
   ],
   "source": [
    "p = np.expand_dims(grey_res_im, axis=0)\n",
    "\n",
    "pred = model.predict(p)\n",
    "pred"
   ]
  },
  {
   "cell_type": "code",
   "execution_count": 131,
   "metadata": {},
   "outputs": [
    {
     "data": {
      "text/plain": [
       "(1, 64, 64, 1)"
      ]
     },
     "execution_count": 131,
     "metadata": {},
     "output_type": "execute_result"
    }
   ],
   "source": [
    "p.shape"
   ]
  },
  {
   "cell_type": "code",
   "execution_count": 132,
   "metadata": {},
   "outputs": [
    {
     "data": {
      "text/plain": [
       "['Cavity', 'Fillings', 'Impacted Tooth', 'Implant', 'Normal']"
      ]
     },
     "execution_count": 132,
     "metadata": {},
     "output_type": "execute_result"
    }
   ],
   "source": [
    "class_names= train_ds.class_names\n",
    "class_names"
   ]
  },
  {
   "cell_type": "code",
   "execution_count": 133,
   "metadata": {},
   "outputs": [
    {
     "name": "stdout",
     "output_type": "stream",
     "text": [
      "Probability of Cavity: 13.71%\n",
      "Probability of Fillings: 5.84%\n",
      "Probability of Impacted Tooth: 0.02%\n",
      "Probability of Implant: 0.02%\n",
      "Probability of Normal: 80.4%\n",
      "Prediction is: Normal\n"
     ]
    }
   ],
   "source": [
    "threshold = 0.5\n",
    "for i in range(len(class_names)):\n",
    "    print(f'Probability of {class_names[i]}: {round(100*pred[0,i],2)}%')\n",
    "\n",
    "    if pred[0,i]>threshold:\n",
    "        threshold=pred[0,i]\n",
    "        prediction = class_names[i]\n",
    "\n",
    "print(f'Prediction is: {prediction}')\n"
   ]
  },
  {
   "cell_type": "code",
   "execution_count": null,
   "metadata": {},
   "outputs": [],
   "source": []
  }
 ],
 "metadata": {
  "kernelspec": {
   "display_name": "starsmiles",
   "language": "python",
   "name": "python3"
  },
  "language_info": {
   "codemirror_mode": {
    "name": "ipython",
    "version": 3
   },
   "file_extension": ".py",
   "mimetype": "text/x-python",
   "name": "python",
   "nbconvert_exporter": "python",
   "pygments_lexer": "ipython3",
   "version": "3.10.6"
  }
 },
 "nbformat": 4,
 "nbformat_minor": 2
}
